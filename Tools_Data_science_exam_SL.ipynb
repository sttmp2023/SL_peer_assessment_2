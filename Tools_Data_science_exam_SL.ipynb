{
 "cells": [
  {
   "cell_type": "markdown",
   "metadata": {},
   "source": [
    "<center>\n",
    "    <img src=\"https://cf-courses-data.s3.us.cloud-object-storage.appdomain.cloud/IBMDeveloperSkillsNetwork-DS0105EN-SkillsNetwork/labs/Module2/images/SN_web_lightmode.png\" width=\"300\" alt=\"cognitiveclass.ai logo\"  />\n",
    "</center>\n"
   ]
  },
  {
   "cell_type": "markdown",
   "metadata": {},
   "source": [
    "#### Add your code below following the instructions given in the course\n"
   ]
  },
  {
   "cell_type": "markdown",
   "metadata": {},
   "source": [
    "<h1>My Jupyter Notebook on IBM Watson Studio</h1>"
   ]
  },
  {
   "cell_type": "markdown",
   "metadata": {},
   "source": [
    "<p><strong>Stefan Lell</strong></p> <br> <p>Risk Manager</p> "
   ]
  },
  {
   "cell_type": "markdown",
   "metadata": {},
   "source": [
    "<em>I am interested in data science because the information which is embedded in the data is extreme and will change how we do business and how we will live as a Society in General (thinking of the opportunities e.g. in the health sector)</em>"
   ]
  },
  {
   "cell_type": "markdown",
   "metadata": {},
   "source": [
    "<h3>In the following, a function fibo is defined which calcuates the n.th value of the recursively defined Fibonacci sequence for a given natural figure.  </h3>"
   ]
  },
  {
   "cell_type": "code",
   "execution_count": 1,
   "metadata": {},
   "outputs": [
    {
     "name": "stdout",
     "output_type": "stream",
     "text": [
      "n =  0 fibo(n) =  0\n",
      "n =  1 fibo(n) =  1\n",
      "n =  2 fibo(n) =  1\n",
      "n =  3 fibo(n) =  2\n",
      "n =  4 fibo(n) =  3\n",
      "n =  5 fibo(n) =  5\n",
      "n =  6 fibo(n) =  8\n",
      "n =  7 fibo(n) =  13\n",
      "n =  8 fibo(n) =  21\n",
      "n =  9 fibo(n) =  34\n",
      "n =  10 fibo(n) =  55\n"
     ]
    }
   ],
   "source": [
    "# Function that recursively calculates the n. th element in the Fibonacci sequence\n",
    "def fibo(n):\n",
    "    if(n<=1):\n",
    "        return n\n",
    "    else:\n",
    "        return(fibo(n-1) + fibo(n-2))\n",
    "\n",
    "# Define an integer for which fibo(n) is executed\n",
    "n = 10\n",
    "\n",
    "# Set a for loop to get estimates from 0 to n\n",
    "for i in range(n+1):\n",
    "    print('n = ', i, 'fibo(n) = ', fibo(i))"
   ]
  },
  {
   "cell_type": "markdown",
   "metadata": {},
   "source": [
    "The Fibonacci Sequence is really interesting - Fibonacci has defined it in order to model a rabbit population (without natural enemies). It has many interesting properties, such as\n",
    "<ol>\n",
    "   <li>appearance in biological settings, such as</li>\n",
    "       <ul>\n",
    "           <li>branching in trees</li>\n",
    "           <li>arrangements of leaves on a stem</li>\n",
    "           <li>...</li>\n",
    "       </ul>\n",
    "    <li>strong relationship with the golden ratio (Binet's formula)</li>\n",
    "    <li>strong relationship with Lucas numbers</li>\n",
    "    <li>appearance in the movie <em>The Da Vinci Code</em></li>\n",
    "    <li>...</li>\n",
    "</ol>\n",
    "\n",
    "The following table displays the results of the first 10 calculations using the above code:\n",
    "\n",
    "<table>\n",
    " <tr>\n",
    " <td> n </td>\n",
    " <td> fibo(n) </td>\n",
    "  </tr>\n",
    " <tr>\n",
    " <td> 0 </td>\n",
    " <td> 0 </td>\n",
    "  </tr>\n",
    " <tr>\n",
    " <td>1 </td>\n",
    " <td> 1 </td>\n",
    "  </tr>\n",
    "    <tr>\n",
    " <td> 2 </td>\n",
    " <td> 1 </td>\n",
    "  </tr>\n",
    " <tr>\n",
    " <td> 3 </td>\n",
    " <td> 2 </td>\n",
    "  </tr>\n",
    " <tr>\n",
    " <td> 4 </td>\n",
    " <td> 3 </td>\n",
    "  </tr>\n",
    "<tr>\n",
    " <td> 5 </td>\n",
    " <td> 5 </td>\n",
    "  </tr>\n",
    " <tr>\n",
    " <td> 6 </td>\n",
    " <td> 8 </td>\n",
    "  </tr>\n",
    "    <tr>\n",
    " <td> 7 </td>\n",
    " <td> 13 </td>\n",
    "  </tr>\n",
    " <tr>\n",
    " <td> 8 </td>\n",
    " <td> 21 </td>\n",
    "  </tr>\n",
    " <tr>\n",
    " <td> 9 </td>\n",
    " <td> 34 </td>\n",
    "  </tr>\n",
    "    <tr>\n",
    " <td> 10 </td>\n",
    " <td> 55 </td>\n",
    "  </tr>\n",
    "</table>\n",
    "\n",
    "The video further below gives a brief introduction to the Fibonacci sequence. "
   ]
  },
  {
   "cell_type": "code",
   "execution_count": 2,
   "metadata": {},
   "outputs": [
    {
     "data": {
      "text/html": [
       "\n",
       "<div align=\"center\">\n",
       "    <iframe width=\"560\" height=\"315\"\n",
       "    src=\"https://www.youtube.com/embed/03uC9bhX0Rc\"\n",
       "    </iframe>\n",
       "</div>\n"
      ],
      "text/plain": [
       "<IPython.core.display.HTML object>"
      ]
     },
     "execution_count": 2,
     "metadata": {},
     "output_type": "execute_result"
    }
   ],
   "source": [
    "from IPython.display import HTML\n",
    "HTML(\"\"\"\n",
    "<div align=\"center\">\n",
    "    <iframe width=\"560\" height=\"315\"\n",
    "    src=\"https://www.youtube.com/embed/03uC9bhX0Rc\"\n",
    "    </iframe>\n",
    "</div>\n",
    "\"\"\")\n"
   ]
  },
  {
   "cell_type": "code",
   "execution_count": null,
   "metadata": {},
   "outputs": [],
   "source": []
  }
 ],
 "metadata": {
  "kernelspec": {
   "display_name": "Python",
   "language": "python",
   "name": "conda-env-python-py"
  },
  "language_info": {
   "codemirror_mode": {
    "name": "ipython",
    "version": 3
   },
   "file_extension": ".py",
   "mimetype": "text/x-python",
   "name": "python",
   "nbconvert_exporter": "python",
   "pygments_lexer": "ipython3",
   "version": "3.7.12"
  }
 },
 "nbformat": 4,
 "nbformat_minor": 4
}
